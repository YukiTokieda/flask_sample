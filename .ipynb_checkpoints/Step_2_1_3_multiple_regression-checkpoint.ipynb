{
 "cells": [
  {
   "cell_type": "markdown",
   "metadata": {},
   "source": [
    "# 回帰モデル入門②"
   ]
  },
  {
   "cell_type": "markdown",
   "metadata": {},
   "source": [
    "前回のnoteに引き続き、`統計モデル`としても機械学習における`教師あり学習(予測モデル)`としても最も基礎的なモデルと言える`回帰モデル(Regression Model)`を扱います。\n",
    "\n",
    "前回は`説明変数`が1つの回帰モデル、すなわち`単回帰モデル`を作成しましたが、今回は説明変数が**複数**の回帰モデル、すなわち`重回帰モデル`を作成します。"
   ]
  },
  {
   "cell_type": "markdown",
   "metadata": {},
   "source": [
    "# 前提知識"
   ]
  },
  {
   "cell_type": "markdown",
   "metadata": {},
   "source": [
    "前回のnoteをよく理解してから今回のnoteに取り組んでください。今回は前回と重複するEDAのプロセスはいくつか省略して進めます。"
   ]
  },
  {
   "cell_type": "markdown",
   "metadata": {},
   "source": [
    "# データ"
   ]
  },
  {
   "cell_type": "markdown",
   "metadata": {},
   "source": [
    "前回同様**住宅情報**についてのサンプルデータを用いて、住宅情報の予測モデルを作成します。"
   ]
  },
  {
   "cell_type": "markdown",
   "metadata": {},
   "source": [
    "データには以下の変数が含まれていて、このうち予測対象となる変数は`price(販売価格)`です。\n",
    "\n",
    "- price：販売価格\n",
    "- tsubo：坪単価\n",
    "- tsubo_su：坪数\n",
    "- kenpei：建蔽率\n",
    "- building：建物単価\n",
    "- age：施主年齢\n",
    "- birth：施主生年\n",
    "- area：地域"
   ]
  },
  {
   "cell_type": "markdown",
   "metadata": {},
   "source": [
    "# 目的"
   ]
  },
  {
   "cell_type": "markdown",
   "metadata": {},
   "source": [
    "回帰モデルのような数値`予測モデル`は現実の**不確実性**に立ち向かうための非常に有用な道具です。予測モデルをマスターすることは、\n",
    "データサイエンスを用いた意思決定の質を飛躍的に高めることにつながります。"
   ]
  },
  {
   "cell_type": "markdown",
   "metadata": {},
   "source": [
    "# 分析実施"
   ]
  },
  {
   "cell_type": "markdown",
   "metadata": {},
   "source": [
    "## 回帰モデルについて"
   ]
  },
  {
   "cell_type": "markdown",
   "metadata": {},
   "source": [
    "回帰モデルは`予測モデル`の中でも最も基本的なモデルではありますが、非常に有用なモデルであり、またビジネスシーンにおいて**最も多用される**モデルの1つです。\n",
    "\n",
    "回帰モデルが多用される理由は、モデルの**分かりやすさ(説明しやすさ)**にあります。ビジネスシーンで意思決定に影響を与えるには、予測の精度だけでは十分ではなく、モデルが十分よく(意思決定者に)理解される必要があります。回帰モデルはその点で最も優れた(扱いやすい)モデルと言えます。"
   ]
  },
  {
   "cell_type": "markdown",
   "metadata": {},
   "source": [
    "それでは、回帰モデルを作成を始めていきましょう。"
   ]
  },
  {
   "cell_type": "markdown",
   "metadata": {},
   "source": [
    "## モジュールのインポート\n",
    "\n",
    "まずは必要なモジュールをインポートします。"
   ]
  },
  {
   "cell_type": "code",
   "execution_count": 172,
   "metadata": {
    "code_folding": []
   },
   "outputs": [],
   "source": [
    "# 基本モジュール\n",
    "import pandas as pd\n",
    "import numpy as np\n",
    "\n",
    "# 可視化モジュール\n",
    "import seaborn as sns\n",
    "import matplotlib.pyplot as plt\n",
    "%matplotlib inline\n",
    "\n",
    "# 分析モジュール\n",
    "from sklearn import linear_model"
   ]
  },
  {
   "cell_type": "markdown",
   "metadata": {},
   "source": [
    "## データの読み込み"
   ]
  },
  {
   "cell_type": "markdown",
   "metadata": {},
   "source": [
    "データはcsvファイルから読み込みます。"
   ]
  },
  {
   "cell_type": "code",
   "execution_count": 173,
   "metadata": {},
   "outputs": [],
   "source": [
    "df = pd.read_csv('step_2_1_3.csv')"
   ]
  },
  {
   "cell_type": "markdown",
   "metadata": {},
   "source": [
    "## データを読み込んでからの初手(`データの概観`)"
   ]
  },
  {
   "cell_type": "markdown",
   "metadata": {},
   "source": [
    "データを読み込んだ後はデータを**概観**しながら少しずつデータを理解していきます。（モデル作成に先立って、データを理解していくプロセスは`EDA(探索的データ分析)`とも呼ばれます。`EDA(探索的データ分析)`の詳しいプロセスは次回のnoteで扱います。）"
   ]
  },
  {
   "cell_type": "markdown",
   "metadata": {},
   "source": [
    "### 練習問題"
   ]
  },
  {
   "cell_type": "code",
   "execution_count": 174,
   "metadata": {},
   "outputs": [],
   "source": [
    "# データの先頭3行を確認してください。"
   ]
  },
  {
   "cell_type": "markdown",
   "metadata": {},
   "source": [
    "`info`メソッドを使って、すべてのカラムの情報をチェックします"
   ]
  },
  {
   "cell_type": "code",
   "execution_count": 175,
   "metadata": {},
   "outputs": [
    {
     "name": "stdout",
     "output_type": "stream",
     "text": [
      "<class 'pandas.core.frame.DataFrame'>\n",
      "RangeIndex: 500 entries, 0 to 499\n",
      "Data columns (total 8 columns):\n",
      " #   Column    Non-Null Count  Dtype  \n",
      "---  ------    --------------  -----  \n",
      " 0   price     500 non-null    object \n",
      " 1   tsubo     500 non-null    object \n",
      " 2   tsubo_su  500 non-null    float64\n",
      " 3   kenpei    500 non-null    float64\n",
      " 4   building  500 non-null    object \n",
      " 5   age       500 non-null    int64  \n",
      " 6   birth     500 non-null    int64  \n",
      " 7   area      500 non-null    object \n",
      "dtypes: float64(2), int64(2), object(4)\n",
      "memory usage: 31.4+ KB\n"
     ]
    }
   ],
   "source": [
    "# data.info()でデータ型やnull（欠損値）ではないデータの個数が分かります\n",
    "df.info()"
   ]
  },
  {
   "cell_type": "markdown",
   "metadata": {},
   "source": [
    "ここでデータ型を確認すると`price`や`tsubo`など、本来は`量的変数`でなければいけない変数のデータ型が`object型(非数値のデータ型)`になっています。なぜこのようなことになっているのでしょうか。\n",
    "\n",
    "実は、データをよく確認してみると数値データに対して`桁区切り`(四桁ごとにカンマ(,)をつける記法)が使われています"
   ]
  },
  {
   "cell_type": "markdown",
   "metadata": {},
   "source": [
    "`桁区切り`のカンマ(,)が含まれている数値は、数値データではなく非数値データ(文字列)のように認識されてしまいます。\n",
    "そこで、カンマ(,)を桁区切りの記号として無視してデータを読み込むたむようにします。"
   ]
  },
  {
   "cell_type": "markdown",
   "metadata": {},
   "source": [
    "### データの再読み込み"
   ]
  },
  {
   "cell_type": "code",
   "execution_count": 176,
   "metadata": {},
   "outputs": [],
   "source": [
    "# 4桁ごとのカンマ(,)を桁区切りとして無視してデータを読み込む\n",
    "df = pd.read_csv('step_2_1_3.csv',thousands=',')"
   ]
  },
  {
   "cell_type": "markdown",
   "metadata": {},
   "source": [
    "### データ型の再確認"
   ]
  },
  {
   "cell_type": "code",
   "execution_count": 177,
   "metadata": {},
   "outputs": [
    {
     "name": "stdout",
     "output_type": "stream",
     "text": [
      "<class 'pandas.core.frame.DataFrame'>\n",
      "RangeIndex: 500 entries, 0 to 499\n",
      "Data columns (total 8 columns):\n",
      " #   Column    Non-Null Count  Dtype  \n",
      "---  ------    --------------  -----  \n",
      " 0   price     500 non-null    int64  \n",
      " 1   tsubo     500 non-null    int64  \n",
      " 2   tsubo_su  500 non-null    float64\n",
      " 3   kenpei    500 non-null    float64\n",
      " 4   building  500 non-null    int64  \n",
      " 5   age       500 non-null    int64  \n",
      " 6   birth     500 non-null    int64  \n",
      " 7   area      500 non-null    object \n",
      "dtypes: float64(2), int64(5), object(1)\n",
      "memory usage: 31.4+ KB\n"
     ]
    }
   ],
   "source": [
    "df.info()"
   ]
  },
  {
   "cell_type": "markdown",
   "metadata": {},
   "source": [
    "無事、データ型が`int64(整数型)`に変更されました。"
   ]
  },
  {
   "cell_type": "markdown",
   "metadata": {},
   "source": [
    "## 基本統計量"
   ]
  },
  {
   "cell_type": "markdown",
   "metadata": {},
   "source": [
    "データの外形(データ型や行列数など)を概観した後は、データの内容についての理解を深めていきます。データ内容をまず大雑把に理解するには、\n",
    "データの`基本統計量`を出力します。"
   ]
  },
  {
   "cell_type": "code",
   "execution_count": 178,
   "metadata": {
    "scrolled": true
   },
   "outputs": [
    {
     "data": {
      "text/html": [
       "<div>\n",
       "<style scoped>\n",
       "    .dataframe tbody tr th:only-of-type {\n",
       "        vertical-align: middle;\n",
       "    }\n",
       "\n",
       "    .dataframe tbody tr th {\n",
       "        vertical-align: top;\n",
       "    }\n",
       "\n",
       "    .dataframe thead th {\n",
       "        text-align: right;\n",
       "    }\n",
       "</style>\n",
       "<table border=\"1\" class=\"dataframe\">\n",
       "  <thead>\n",
       "    <tr style=\"text-align: right;\">\n",
       "      <th></th>\n",
       "      <th>price</th>\n",
       "      <th>tsubo</th>\n",
       "      <th>tsubo_su</th>\n",
       "      <th>kenpei</th>\n",
       "      <th>building</th>\n",
       "      <th>age</th>\n",
       "      <th>birth</th>\n",
       "    </tr>\n",
       "  </thead>\n",
       "  <tbody>\n",
       "    <tr>\n",
       "      <th>count</th>\n",
       "      <td>500.00</td>\n",
       "      <td>500.00</td>\n",
       "      <td>500.00</td>\n",
       "      <td>500.00</td>\n",
       "      <td>500.00</td>\n",
       "      <td>500.00</td>\n",
       "      <td>500.00</td>\n",
       "    </tr>\n",
       "    <tr>\n",
       "      <th>mean</th>\n",
       "      <td>49698200.00</td>\n",
       "      <td>647582.00</td>\n",
       "      <td>40.00</td>\n",
       "      <td>1.00</td>\n",
       "      <td>450258.00</td>\n",
       "      <td>40.00</td>\n",
       "      <td>1976.00</td>\n",
       "    </tr>\n",
       "    <tr>\n",
       "      <th>std</th>\n",
       "      <td>8426389.00</td>\n",
       "      <td>80350.00</td>\n",
       "      <td>5.00</td>\n",
       "      <td>0.00</td>\n",
       "      <td>39636.00</td>\n",
       "      <td>4.00</td>\n",
       "      <td>4.00</td>\n",
       "    </tr>\n",
       "    <tr>\n",
       "      <th>min</th>\n",
       "      <td>23700000.00</td>\n",
       "      <td>397000.00</td>\n",
       "      <td>28.00</td>\n",
       "      <td>1.00</td>\n",
       "      <td>336000.00</td>\n",
       "      <td>29.00</td>\n",
       "      <td>1964.00</td>\n",
       "    </tr>\n",
       "    <tr>\n",
       "      <th>25%</th>\n",
       "      <td>44100000.00</td>\n",
       "      <td>592750.00</td>\n",
       "      <td>37.00</td>\n",
       "      <td>1.00</td>\n",
       "      <td>424000.00</td>\n",
       "      <td>37.00</td>\n",
       "      <td>1973.00</td>\n",
       "    </tr>\n",
       "    <tr>\n",
       "      <th>50%</th>\n",
       "      <td>49350000.00</td>\n",
       "      <td>648000.00</td>\n",
       "      <td>40.00</td>\n",
       "      <td>1.00</td>\n",
       "      <td>451000.00</td>\n",
       "      <td>40.00</td>\n",
       "      <td>1976.00</td>\n",
       "    </tr>\n",
       "    <tr>\n",
       "      <th>75%</th>\n",
       "      <td>55525000.00</td>\n",
       "      <td>704250.00</td>\n",
       "      <td>44.00</td>\n",
       "      <td>1.00</td>\n",
       "      <td>478000.00</td>\n",
       "      <td>43.00</td>\n",
       "      <td>1979.00</td>\n",
       "    </tr>\n",
       "    <tr>\n",
       "      <th>max</th>\n",
       "      <td>71000000.00</td>\n",
       "      <td>889000.00</td>\n",
       "      <td>61.00</td>\n",
       "      <td>1.00</td>\n",
       "      <td>542000.00</td>\n",
       "      <td>52.00</td>\n",
       "      <td>1987.00</td>\n",
       "    </tr>\n",
       "  </tbody>\n",
       "</table>\n",
       "</div>"
      ],
      "text/plain": [
       "            price     tsubo  tsubo_su  kenpei  building    age   birth\n",
       "count      500.00    500.00    500.00  500.00    500.00 500.00  500.00\n",
       "mean  49698200.00 647582.00     40.00    1.00 450258.00  40.00 1976.00\n",
       "std    8426389.00  80350.00      5.00    0.00  39636.00   4.00    4.00\n",
       "min   23700000.00 397000.00     28.00    1.00 336000.00  29.00 1964.00\n",
       "25%   44100000.00 592750.00     37.00    1.00 424000.00  37.00 1973.00\n",
       "50%   49350000.00 648000.00     40.00    1.00 451000.00  40.00 1976.00\n",
       "75%   55525000.00 704250.00     44.00    1.00 478000.00  43.00 1979.00\n",
       "max   71000000.00 889000.00     61.00    1.00 542000.00  52.00 1987.00"
      ]
     },
     "execution_count": 178,
     "metadata": {},
     "output_type": "execute_result"
    }
   ],
   "source": [
    "round(df.describe(),0)"
   ]
  },
  {
   "cell_type": "markdown",
   "metadata": {},
   "source": [
    "## 層別解析"
   ]
  },
  {
   "cell_type": "markdown",
   "metadata": {},
   "source": [
    "`describe`で表示される代表値(`mean`)や散布図(`std`)などは1つの変数に対して定義される要約値でした。データを概観する過程(`EDA`)では、変数を１つずつ注目するだけではなく、\n",
    "複数の変数間の関連性についても確認していきます。"
   ]
  },
  {
   "cell_type": "markdown",
   "metadata": {},
   "source": [
    "例えば、質的変数(今回のデータでは`area`)が量的変数とどのような関連性があるかを見るには、質的変数の値ごとに注目している量的変数の平均値を確認すれば良いでしょう(このような処理は`層別解析`と呼ばれます。）Pythonにおける処理は`groupby`を使います。`df.groupby([変数名]).集計関数`の形で層別に使い変数と集計関数(例えば平均値を求めたい場合は`mean`)を指定します。"
   ]
  },
  {
   "cell_type": "code",
   "execution_count": 179,
   "metadata": {
    "code_folding": [],
    "scrolled": true
   },
   "outputs": [
    {
     "data": {
      "text/html": [
       "<div>\n",
       "<style scoped>\n",
       "    .dataframe tbody tr th:only-of-type {\n",
       "        vertical-align: middle;\n",
       "    }\n",
       "\n",
       "    .dataframe tbody tr th {\n",
       "        vertical-align: top;\n",
       "    }\n",
       "\n",
       "    .dataframe thead th {\n",
       "        text-align: right;\n",
       "    }\n",
       "</style>\n",
       "<table border=\"1\" class=\"dataframe\">\n",
       "  <thead>\n",
       "    <tr style=\"text-align: right;\">\n",
       "      <th></th>\n",
       "      <th>price</th>\n",
       "      <th>tsubo</th>\n",
       "      <th>tsubo_su</th>\n",
       "      <th>kenpei</th>\n",
       "      <th>building</th>\n",
       "      <th>age</th>\n",
       "      <th>birth</th>\n",
       "    </tr>\n",
       "    <tr>\n",
       "      <th>area</th>\n",
       "      <th></th>\n",
       "      <th></th>\n",
       "      <th></th>\n",
       "      <th></th>\n",
       "      <th></th>\n",
       "      <th></th>\n",
       "      <th></th>\n",
       "    </tr>\n",
       "  </thead>\n",
       "  <tbody>\n",
       "    <tr>\n",
       "      <th>A</th>\n",
       "      <td>54775627.24</td>\n",
       "      <td>667784.95</td>\n",
       "      <td>41.79</td>\n",
       "      <td>0.85</td>\n",
       "      <td>451620.07</td>\n",
       "      <td>40.16</td>\n",
       "      <td>1975.84</td>\n",
       "    </tr>\n",
       "    <tr>\n",
       "      <th>B</th>\n",
       "      <td>43452380.95</td>\n",
       "      <td>628297.62</td>\n",
       "      <td>38.37</td>\n",
       "      <td>0.85</td>\n",
       "      <td>442964.29</td>\n",
       "      <td>40.05</td>\n",
       "      <td>1975.95</td>\n",
       "    </tr>\n",
       "    <tr>\n",
       "      <th>C</th>\n",
       "      <td>43229166.67</td>\n",
       "      <td>620666.67</td>\n",
       "      <td>38.50</td>\n",
       "      <td>0.85</td>\n",
       "      <td>453552.08</td>\n",
       "      <td>40.61</td>\n",
       "      <td>1975.39</td>\n",
       "    </tr>\n",
       "    <tr>\n",
       "      <th>D</th>\n",
       "      <td>43090243.90</td>\n",
       "      <td>612634.15</td>\n",
       "      <td>39.76</td>\n",
       "      <td>0.85</td>\n",
       "      <td>448219.51</td>\n",
       "      <td>39.27</td>\n",
       "      <td>1976.73</td>\n",
       "    </tr>\n",
       "  </tbody>\n",
       "</table>\n",
       "</div>"
      ],
      "text/plain": [
       "           price     tsubo  tsubo_su  kenpei  building   age   birth\n",
       "area                                                                \n",
       "A    54775627.24 667784.95     41.79    0.85 451620.07 40.16 1975.84\n",
       "B    43452380.95 628297.62     38.37    0.85 442964.29 40.05 1975.95\n",
       "C    43229166.67 620666.67     38.50    0.85 453552.08 40.61 1975.39\n",
       "D    43090243.90 612634.15     39.76    0.85 448219.51 39.27 1976.73"
      ]
     },
     "execution_count": 179,
     "metadata": {},
     "output_type": "execute_result"
    }
   ],
   "source": [
    "# 指数表示にならないようにpandasの表示オプションを変更します。 \n",
    "pd.options.display.float_format = '{:.2f}'.format\n",
    "\n",
    "# areaの値ごとに平均値を計算する\n",
    "df.groupby(['area']).mean()"
   ]
  },
  {
   "cell_type": "markdown",
   "metadata": {},
   "source": [
    "出力はDataFrameなので特定の列だけを抽出することもできます。"
   ]
  },
  {
   "cell_type": "code",
   "execution_count": 180,
   "metadata": {},
   "outputs": [
    {
     "data": {
      "text/html": [
       "<div>\n",
       "<style scoped>\n",
       "    .dataframe tbody tr th:only-of-type {\n",
       "        vertical-align: middle;\n",
       "    }\n",
       "\n",
       "    .dataframe tbody tr th {\n",
       "        vertical-align: top;\n",
       "    }\n",
       "\n",
       "    .dataframe thead th {\n",
       "        text-align: right;\n",
       "    }\n",
       "</style>\n",
       "<table border=\"1\" class=\"dataframe\">\n",
       "  <thead>\n",
       "    <tr style=\"text-align: right;\">\n",
       "      <th></th>\n",
       "      <th>price</th>\n",
       "    </tr>\n",
       "    <tr>\n",
       "      <th>area</th>\n",
       "      <th></th>\n",
       "    </tr>\n",
       "  </thead>\n",
       "  <tbody>\n",
       "    <tr>\n",
       "      <th>A</th>\n",
       "      <td>54775627.24</td>\n",
       "    </tr>\n",
       "    <tr>\n",
       "      <th>B</th>\n",
       "      <td>43452380.95</td>\n",
       "    </tr>\n",
       "    <tr>\n",
       "      <th>C</th>\n",
       "      <td>43229166.67</td>\n",
       "    </tr>\n",
       "    <tr>\n",
       "      <th>D</th>\n",
       "      <td>43090243.90</td>\n",
       "    </tr>\n",
       "  </tbody>\n",
       "</table>\n",
       "</div>"
      ],
      "text/plain": [
       "           price\n",
       "area            \n",
       "A    54775627.24\n",
       "B    43452380.95\n",
       "C    43229166.67\n",
       "D    43090243.90"
      ]
     },
     "execution_count": 180,
     "metadata": {},
     "output_type": "execute_result"
    }
   ],
   "source": [
    "df.groupby(['area']).mean()[['price']]"
   ]
  },
  {
   "cell_type": "markdown",
   "metadata": {},
   "source": [
    "どうやら`area`によってpriceの値は影響を受けそうです。具体的には`area=A`の場合にはpriceの値が高くなり、その他の`area`は(平均値から判断すれば)概ね\n",
    "同等と言えるでしょう。"
   ]
  },
  {
   "cell_type": "markdown",
   "metadata": {},
   "source": [
    "## 相関分析"
   ]
  },
  {
   "cell_type": "markdown",
   "metadata": {},
   "source": [
    "今度とは量的変数と量的変数の関連を`相関係数`によって見ていきます。予測対象の変数は`price`なので`price`とその他の変数の相関に特に注目\n",
    "していきます。"
   ]
  },
  {
   "cell_type": "code",
   "execution_count": 181,
   "metadata": {
    "scrolled": false
   },
   "outputs": [
    {
     "data": {
      "text/html": [
       "<div>\n",
       "<style scoped>\n",
       "    .dataframe tbody tr th:only-of-type {\n",
       "        vertical-align: middle;\n",
       "    }\n",
       "\n",
       "    .dataframe tbody tr th {\n",
       "        vertical-align: top;\n",
       "    }\n",
       "\n",
       "    .dataframe thead th {\n",
       "        text-align: right;\n",
       "    }\n",
       "</style>\n",
       "<table border=\"1\" class=\"dataframe\">\n",
       "  <thead>\n",
       "    <tr style=\"text-align: right;\">\n",
       "      <th></th>\n",
       "      <th>price</th>\n",
       "      <th>tsubo</th>\n",
       "      <th>tsubo_su</th>\n",
       "      <th>kenpei</th>\n",
       "      <th>building</th>\n",
       "      <th>age</th>\n",
       "      <th>birth</th>\n",
       "    </tr>\n",
       "  </thead>\n",
       "  <tbody>\n",
       "    <tr>\n",
       "      <th>price</th>\n",
       "      <td>1.00</td>\n",
       "      <td>0.45</td>\n",
       "      <td>0.36</td>\n",
       "      <td>0.07</td>\n",
       "      <td>0.06</td>\n",
       "      <td>0.10</td>\n",
       "      <td>-0.10</td>\n",
       "    </tr>\n",
       "    <tr>\n",
       "      <th>tsubo</th>\n",
       "      <td>0.45</td>\n",
       "      <td>1.00</td>\n",
       "      <td>-0.04</td>\n",
       "      <td>0.06</td>\n",
       "      <td>-0.01</td>\n",
       "      <td>0.07</td>\n",
       "      <td>-0.07</td>\n",
       "    </tr>\n",
       "    <tr>\n",
       "      <th>tsubo_su</th>\n",
       "      <td>0.36</td>\n",
       "      <td>-0.04</td>\n",
       "      <td>1.00</td>\n",
       "      <td>-0.02</td>\n",
       "      <td>-0.05</td>\n",
       "      <td>-0.02</td>\n",
       "      <td>0.02</td>\n",
       "    </tr>\n",
       "    <tr>\n",
       "      <th>kenpei</th>\n",
       "      <td>0.07</td>\n",
       "      <td>0.06</td>\n",
       "      <td>-0.02</td>\n",
       "      <td>1.00</td>\n",
       "      <td>-0.04</td>\n",
       "      <td>0.02</td>\n",
       "      <td>-0.02</td>\n",
       "    </tr>\n",
       "    <tr>\n",
       "      <th>building</th>\n",
       "      <td>0.06</td>\n",
       "      <td>-0.01</td>\n",
       "      <td>-0.05</td>\n",
       "      <td>-0.04</td>\n",
       "      <td>1.00</td>\n",
       "      <td>0.07</td>\n",
       "      <td>-0.07</td>\n",
       "    </tr>\n",
       "    <tr>\n",
       "      <th>age</th>\n",
       "      <td>0.10</td>\n",
       "      <td>0.07</td>\n",
       "      <td>-0.02</td>\n",
       "      <td>0.02</td>\n",
       "      <td>0.07</td>\n",
       "      <td>1.00</td>\n",
       "      <td>-1.00</td>\n",
       "    </tr>\n",
       "    <tr>\n",
       "      <th>birth</th>\n",
       "      <td>-0.10</td>\n",
       "      <td>-0.07</td>\n",
       "      <td>0.02</td>\n",
       "      <td>-0.02</td>\n",
       "      <td>-0.07</td>\n",
       "      <td>-1.00</td>\n",
       "      <td>1.00</td>\n",
       "    </tr>\n",
       "  </tbody>\n",
       "</table>\n",
       "</div>"
      ],
      "text/plain": [
       "          price  tsubo  tsubo_su  kenpei  building   age  birth\n",
       "price      1.00   0.45      0.36    0.07      0.06  0.10  -0.10\n",
       "tsubo      0.45   1.00     -0.04    0.06     -0.01  0.07  -0.07\n",
       "tsubo_su   0.36  -0.04      1.00   -0.02     -0.05 -0.02   0.02\n",
       "kenpei     0.07   0.06     -0.02    1.00     -0.04  0.02  -0.02\n",
       "building   0.06  -0.01     -0.05   -0.04      1.00  0.07  -0.07\n",
       "age        0.10   0.07     -0.02    0.02      0.07  1.00  -1.00\n",
       "birth     -0.10  -0.07      0.02   -0.02     -0.07 -1.00   1.00"
      ]
     },
     "execution_count": 181,
     "metadata": {},
     "output_type": "execute_result"
    }
   ],
   "source": [
    "corr_mat = df.corr(method='pearson')\n",
    "corr_mat"
   ]
  },
  {
   "cell_type": "markdown",
   "metadata": {},
   "source": [
    "`price`との相関係数を抜き出して確認します。"
   ]
  },
  {
   "cell_type": "code",
   "execution_count": 182,
   "metadata": {},
   "outputs": [
    {
     "data": {
      "text/html": [
       "<div>\n",
       "<style scoped>\n",
       "    .dataframe tbody tr th:only-of-type {\n",
       "        vertical-align: middle;\n",
       "    }\n",
       "\n",
       "    .dataframe tbody tr th {\n",
       "        vertical-align: top;\n",
       "    }\n",
       "\n",
       "    .dataframe thead th {\n",
       "        text-align: right;\n",
       "    }\n",
       "</style>\n",
       "<table border=\"1\" class=\"dataframe\">\n",
       "  <thead>\n",
       "    <tr style=\"text-align: right;\">\n",
       "      <th></th>\n",
       "      <th>price</th>\n",
       "    </tr>\n",
       "  </thead>\n",
       "  <tbody>\n",
       "    <tr>\n",
       "      <th>price</th>\n",
       "      <td>1.00</td>\n",
       "    </tr>\n",
       "    <tr>\n",
       "      <th>tsubo</th>\n",
       "      <td>0.45</td>\n",
       "    </tr>\n",
       "    <tr>\n",
       "      <th>tsubo_su</th>\n",
       "      <td>0.36</td>\n",
       "    </tr>\n",
       "    <tr>\n",
       "      <th>kenpei</th>\n",
       "      <td>0.07</td>\n",
       "    </tr>\n",
       "    <tr>\n",
       "      <th>building</th>\n",
       "      <td>0.06</td>\n",
       "    </tr>\n",
       "    <tr>\n",
       "      <th>age</th>\n",
       "      <td>0.10</td>\n",
       "    </tr>\n",
       "    <tr>\n",
       "      <th>birth</th>\n",
       "      <td>-0.10</td>\n",
       "    </tr>\n",
       "  </tbody>\n",
       "</table>\n",
       "</div>"
      ],
      "text/plain": [
       "          price\n",
       "price      1.00\n",
       "tsubo      0.45\n",
       "tsubo_su   0.36\n",
       "kenpei     0.07\n",
       "building   0.06\n",
       "age        0.10\n",
       "birth     -0.10"
      ]
     },
     "execution_count": 182,
     "metadata": {},
     "output_type": "execute_result"
    }
   ],
   "source": [
    "corr_mat[['price']]"
   ]
  },
  {
   "cell_type": "markdown",
   "metadata": {},
   "source": [
    "## 回帰分析の言葉"
   ]
  },
  {
   "cell_type": "markdown",
   "metadata": {},
   "source": [
    "いよいよ、ここからが回帰モデルの作成(`回帰分析`)を行います。まずは回帰モデルを記述するための言葉を定義しておきましょう。"
   ]
  },
  {
   "cell_type": "markdown",
   "metadata": {},
   "source": [
    "予測したい`量的変数`があるときに、データに含まれる他の変数を使って予測を行う`式(モデル)`を作成することを回帰分析と呼びます。\n",
    "このとき、予測対象の変数は`目的変数(Y)`、予測に使う変数は`説明変数(X)`、各説明変数の影響度を表す値は`回帰係数(β)`と呼びます。説明変数は複数あっても構いません。これらの用語を使うと回帰モデル(式)は以下のように記述されます。\n",
    "\n",
    " $$ 目的変数の予測値 = 回帰係数1(β1)×説明変数1の値(X1) + 回帰係数2の値(β2)×説明変数(X2) + ・・・ + 定数 $$ \n"
   ]
  },
  {
   "cell_type": "markdown",
   "metadata": {},
   "source": [
    "回帰モデルのうち、説明変数が1つのモデルを`単回帰モデル`、説明変数が2つ以上のモデルを`重回帰モデル`と呼びます。また定数は`切片`とも呼ばれます。"
   ]
  },
  {
   "cell_type": "markdown",
   "metadata": {},
   "source": [
    "（一般に、回帰モデル以外の予測モデルであっても、予測対象の変数は`目的変数`、予測に使われる変数は`説明変数`と呼ばれます。）"
   ]
  },
  {
   "cell_type": "markdown",
   "metadata": {},
   "source": [
    "## 重回帰分析"
   ]
  },
  {
   "cell_type": "markdown",
   "metadata": {},
   "source": [
    "それでは重回帰モデルの作成を進めていきます。`sklearn`のような機械学習モジュールを用いてモデリングを行う場合には、使いたいモデルのクラスからモデルオブジェクトをインスタンス化して作成します。そして作成したインスタンスに対してインスタンス変数として、当該目`的変変数`と`説明変数`を指定することで、目指すモデルが出来上がります。\n",
    "色々とややこしい記述が続きましたが、要は以下のような単純なプロセスによってモデル作成を行うことができます。\n",
    "\n",
    "- Step1：使いたい予測モデルを選んで、必要なモジュールをインポートする(今回は回帰モデルを選ぶ)\n",
    "- Step2：データから目的変数と説明変数(複数列でも可)を選ぶ\n",
    "- Step3：モデルのクラスからモデルインスタンスを生成する\n",
    "- Step4：生成したインスタンスに目的変数と説明変数を指定する(`fit`させる)"
   ]
  },
  {
   "cell_type": "markdown",
   "metadata": {},
   "source": [
    "**Step1：使いたい予測モデルを選んで、必要なモジュールをインポートする(今回は回帰モデルを選ぶ)**<br>\n",
    "\n",
    "以下のコマンドを実行します（今回ははじめのセルですでにimportしているので以下のコマンドは不要です。そのためコメントアウトしています。）"
   ]
  },
  {
   "cell_type": "code",
   "execution_count": null,
   "metadata": {},
   "outputs": [],
   "source": [
    "# from sklearn import linear_model"
   ]
  },
  {
   "cell_type": "markdown",
   "metadata": {},
   "source": [
    "**Step2：データから目的変数と説明変数(複数列でも可)を選ぶ** <br>\n",
    "今回は`tsubo`と`tsubo_su`を使って`price`を予測するモデルを作成することにします。`tsubo_su`は`tsubo`の次に`price`との相関が強い変数です。"
   ]
  },
  {
   "cell_type": "code",
   "execution_count": 183,
   "metadata": {},
   "outputs": [],
   "source": [
    "# 説明変数を定義する\n",
    "X = df[['tsubo','tsubo_su']]\n",
    "\n",
    "# 目的変数を定義する\n",
    "Y = df[['price']]"
   ]
  },
  {
   "cell_type": "markdown",
   "metadata": {},
   "source": [
    "念の為データを確認します。"
   ]
  },
  {
   "cell_type": "code",
   "execution_count": 184,
   "metadata": {},
   "outputs": [
    {
     "data": {
      "text/html": [
       "<div>\n",
       "<style scoped>\n",
       "    .dataframe tbody tr th:only-of-type {\n",
       "        vertical-align: middle;\n",
       "    }\n",
       "\n",
       "    .dataframe tbody tr th {\n",
       "        vertical-align: top;\n",
       "    }\n",
       "\n",
       "    .dataframe thead th {\n",
       "        text-align: right;\n",
       "    }\n",
       "</style>\n",
       "<table border=\"1\" class=\"dataframe\">\n",
       "  <thead>\n",
       "    <tr style=\"text-align: right;\">\n",
       "      <th></th>\n",
       "      <th>tsubo</th>\n",
       "      <th>tsubo_su</th>\n",
       "    </tr>\n",
       "  </thead>\n",
       "  <tbody>\n",
       "    <tr>\n",
       "      <th>0</th>\n",
       "      <td>563000</td>\n",
       "      <td>44.69</td>\n",
       "    </tr>\n",
       "    <tr>\n",
       "      <th>1</th>\n",
       "      <td>694000</td>\n",
       "      <td>41.74</td>\n",
       "    </tr>\n",
       "  </tbody>\n",
       "</table>\n",
       "</div>"
      ],
      "text/plain": [
       "    tsubo  tsubo_su\n",
       "0  563000     44.69\n",
       "1  694000     41.74"
      ]
     },
     "execution_count": 184,
     "metadata": {},
     "output_type": "execute_result"
    }
   ],
   "source": [
    "X.head(2)"
   ]
  },
  {
   "cell_type": "code",
   "execution_count": 185,
   "metadata": {},
   "outputs": [
    {
     "data": {
      "text/html": [
       "<div>\n",
       "<style scoped>\n",
       "    .dataframe tbody tr th:only-of-type {\n",
       "        vertical-align: middle;\n",
       "    }\n",
       "\n",
       "    .dataframe tbody tr th {\n",
       "        vertical-align: top;\n",
       "    }\n",
       "\n",
       "    .dataframe thead th {\n",
       "        text-align: right;\n",
       "    }\n",
       "</style>\n",
       "<table border=\"1\" class=\"dataframe\">\n",
       "  <thead>\n",
       "    <tr style=\"text-align: right;\">\n",
       "      <th></th>\n",
       "      <th>price</th>\n",
       "    </tr>\n",
       "  </thead>\n",
       "  <tbody>\n",
       "    <tr>\n",
       "      <th>0</th>\n",
       "      <td>47400000</td>\n",
       "    </tr>\n",
       "    <tr>\n",
       "      <th>1</th>\n",
       "      <td>60300000</td>\n",
       "    </tr>\n",
       "  </tbody>\n",
       "</table>\n",
       "</div>"
      ],
      "text/plain": [
       "      price\n",
       "0  47400000\n",
       "1  60300000"
      ]
     },
     "execution_count": 185,
     "metadata": {},
     "output_type": "execute_result"
    }
   ],
   "source": [
    "Y.head(2)"
   ]
  },
  {
   "cell_type": "markdown",
   "metadata": {},
   "source": [
    "**Step3：モデルのクラスからモデルインスタンスを生成する**"
   ]
  },
  {
   "cell_type": "code",
   "execution_count": 187,
   "metadata": {},
   "outputs": [],
   "source": [
    "reg = linear_model.LinearRegression()"
   ]
  },
  {
   "cell_type": "markdown",
   "metadata": {},
   "source": [
    "**Step4：生成したインスタンスに目的変数と説明変数を指定する(`fit`させる)**"
   ]
  },
  {
   "cell_type": "code",
   "execution_count": 188,
   "metadata": {},
   "outputs": [
    {
     "data": {
      "text/plain": [
       "LinearRegression(copy_X=True, fit_intercept=True, n_jobs=None, normalize=False)"
      ]
     },
     "execution_count": 188,
     "metadata": {},
     "output_type": "execute_result"
    }
   ],
   "source": [
    "reg.fit(X,Y)"
   ]
  },
  {
   "cell_type": "markdown",
   "metadata": {},
   "source": [
    "モデル作成はこれだけのStepで終了です。今回作成した重回帰モデルは次のような形になっていることに注意して下さい。\n",
    "\n",
    " $$ price(目的変数)の予測値 = 回帰係数(β1) × tsuboの値(X1) + 回帰係数(β2) × tsubo\\_suの値(X2) + 定数 $$ \n",
    "\n",
    "それでは作成したモデルの回帰係数と定数を出力してみます。"
   ]
  },
  {
   "cell_type": "markdown",
   "metadata": {},
   "source": [
    "**回帰係数と切片を出力する**"
   ]
  },
  {
   "cell_type": "markdown",
   "metadata": {},
   "source": [
    "作成した回帰モデルの回帰係数は`reg.coef_`で、定数(切片)は`reg.intercept_`で取り出すことができます。`reg.coef_`も`reg.intercept_`も配列で定義されているので、適宜インデックスを指定して参照しましょう。"
   ]
  },
  {
   "cell_type": "code",
   "execution_count": 189,
   "metadata": {
    "scrolled": true
   },
   "outputs": [
    {
     "name": "stdout",
     "output_type": "stream",
     "text": [
      "回帰係数は [[4.91259738e+01 6.26276201e+05]] \n",
      "\n",
      "切片は [-7427890.70904541]\n"
     ]
    }
   ],
   "source": [
    "print('回帰係数は',reg.coef_,'\\n')\n",
    "print('切片は',reg.intercept_)"
   ]
  },
  {
   "cell_type": "code",
   "execution_count": 190,
   "metadata": {},
   "outputs": [
    {
     "name": "stdout",
     "output_type": "stream",
     "text": [
      "作成されたモデル：priceの予測値 = 49.1×tsuboの値 + 626276.2×tsubo_suの値 + -7427890.7\n"
     ]
    }
   ],
   "source": [
    "print('作成されたモデル：priceの予測値 = {0:.1f}×tsuboの値 + {1:.1f}×tsubo_suの値 + {2:.1f}'\n",
    "      .format(reg.coef_[0][0],reg.coef_[0][1],reg.intercept_[0]))"
   ]
  },
  {
   "cell_type": "markdown",
   "metadata": {},
   "source": [
    "**作成した回帰モデルを使う**"
   ]
  },
  {
   "cell_type": "code",
   "execution_count": 191,
   "metadata": {},
   "outputs": [
    {
     "data": {
      "text/html": [
       "<div>\n",
       "<style scoped>\n",
       "    .dataframe tbody tr th:only-of-type {\n",
       "        vertical-align: middle;\n",
       "    }\n",
       "\n",
       "    .dataframe tbody tr th {\n",
       "        vertical-align: top;\n",
       "    }\n",
       "\n",
       "    .dataframe thead th {\n",
       "        text-align: right;\n",
       "    }\n",
       "</style>\n",
       "<table border=\"1\" class=\"dataframe\">\n",
       "  <thead>\n",
       "    <tr style=\"text-align: right;\">\n",
       "      <th></th>\n",
       "      <th>price</th>\n",
       "      <th>tsubo</th>\n",
       "      <th>tsubo_su</th>\n",
       "    </tr>\n",
       "  </thead>\n",
       "  <tbody>\n",
       "    <tr>\n",
       "      <th>0</th>\n",
       "      <td>47400000</td>\n",
       "      <td>563000</td>\n",
       "      <td>44.69</td>\n",
       "    </tr>\n",
       "    <tr>\n",
       "      <th>1</th>\n",
       "      <td>60300000</td>\n",
       "      <td>694000</td>\n",
       "      <td>41.74</td>\n",
       "    </tr>\n",
       "    <tr>\n",
       "      <th>2</th>\n",
       "      <td>53700000</td>\n",
       "      <td>744000</td>\n",
       "      <td>42.89</td>\n",
       "    </tr>\n",
       "  </tbody>\n",
       "</table>\n",
       "</div>"
      ],
      "text/plain": [
       "      price   tsubo  tsubo_su\n",
       "0  47400000  563000     44.69\n",
       "1  60300000  694000     41.74\n",
       "2  53700000  744000     42.89"
      ]
     },
     "execution_count": 191,
     "metadata": {},
     "output_type": "execute_result"
    }
   ],
   "source": [
    "df.head(3)[['price','tsubo','tsubo_su']]"
   ]
  },
  {
   "cell_type": "markdown",
   "metadata": {},
   "source": [
    "作成したモデルへの入力は`2次元配列(配列の配列)`によって行います。例えば最初の2行`tsubo=563000, tsubo_su=44.69`のデータと`tsubo=694000, tsubo_su=41.74`のデータの予測値を出力するには以下のようにします。"
   ]
  },
  {
   "cell_type": "code",
   "execution_count": 192,
   "metadata": {},
   "outputs": [
    {
     "data": {
      "text/plain": [
       "array([[48218315.98351054],\n",
       "       [52800040.99664127]])"
      ]
     },
     "execution_count": 192,
     "metadata": {},
     "output_type": "execute_result"
    }
   ],
   "source": [
    "reg.predict([[563000, 44.69],\n",
    "             [694000, 41.73]])"
   ]
  },
  {
   "cell_type": "markdown",
   "metadata": {},
   "source": [
    "説明変数のDataFrameをそのまま入力することもできます。"
   ]
  },
  {
   "cell_type": "code",
   "execution_count": 193,
   "metadata": {},
   "outputs": [
    {
     "data": {
      "text/plain": [
       "array([[48218315.98351054],\n",
       "       [52806303.75865462],\n",
       "       [55982820.08067866]])"
      ]
     },
     "execution_count": 193,
     "metadata": {},
     "output_type": "execute_result"
    }
   ],
   "source": [
    "# モデル作成に使った説明変数に対する予測値を出力する(最初の3行のみ)\n",
    "reg.predict(X)[:3]"
   ]
  },
  {
   "cell_type": "markdown",
   "metadata": {},
   "source": [
    "**モデルを可視化する**"
   ]
  },
  {
   "cell_type": "markdown",
   "metadata": {},
   "source": [
    "今回は単回帰モデルのように目的変数(price)と説明変数(tsubo,tsubo_su)を(2次元の)散布図で表現する事はできません。\n",
    "そこで、目的変数の`実測値`と目的変数の`予測値`を散布図で表示することにします。\n",
    "もし出来上がった回帰モデルの精度が高ければ、多くのデータで実測値=予測値となるため、散布図は直線に近くなるはずです。"
   ]
  },
  {
   "cell_type": "code",
   "execution_count": 194,
   "metadata": {},
   "outputs": [
    {
     "data": {
      "text/plain": [
       "array([[48218315.98351054],\n",
       "       [52806303.75865462],\n",
       "       [55982820.08067866]])"
      ]
     },
     "execution_count": 194,
     "metadata": {},
     "output_type": "execute_result"
    }
   ],
   "source": [
    "Y_pred = reg.predict(X) #予測値を出力する\n",
    "Y_pred[:3] #最初の3つの要素を確認する"
   ]
  },
  {
   "cell_type": "code",
   "execution_count": 195,
   "metadata": {},
   "outputs": [
    {
     "data": {
      "text/plain": [
       "Text(0, 0.5, 'predicted data')"
      ]
     },
     "execution_count": 195,
     "metadata": {},
     "output_type": "execute_result"
    },
    {
     "data": {
      "image/png": "[encoded data removed]",
      "text/plain": [
       "<Figure size 432x288 with 1 Axes>"
      ]
     },
     "metadata": {
      "needs_background": "light"
     },
     "output_type": "display_data"
    }
   ],
   "source": [
    "# 散布図をプロットする\n",
    "plt.scatter(Y,Y_pred)\n",
    "plt.xlabel('actual data')\n",
    "plt.ylabel('predicted data')"
   ]
  },
  {
   "cell_type": "markdown",
   "metadata": {},
   "source": [
    "今度は作成したモデルの精度を精度評価指標を使って評価していきます。"
   ]
  },
  {
   "cell_type": "markdown",
   "metadata": {},
   "source": [
    "### 回帰モデルの精度を確認する"
   ]
  },
  {
   "cell_type": "markdown",
   "metadata": {},
   "source": [
    "回帰分析において、モデルの**当てはまりの良さ**を評価する指標の1つに`決定係数`があります。\n",
    "\n",
    "- 決定係数は0〜1までの値を取り、1に近いほどあてまはり良いと解釈されます。\n",
    "- 直線上に全てのデータが乗る場合に決定係数は1になります。\n",
    "- 決定係数の**とりあえずの目安**としては **0.2以下：低い　0.2〜0.5：ふつう　0.5以上：高い** としてください。"
   ]
  },
  {
   "cell_type": "code",
   "execution_count": 196,
   "metadata": {
    "scrolled": true
   },
   "outputs": [
    {
     "data": {
      "text/plain": [
       "0.3520178148928559"
      ]
     },
     "execution_count": 196,
     "metadata": {},
     "output_type": "execute_result"
    }
   ],
   "source": [
    "# 決定係数を出力\n",
    "reg.score(X,Y)"
   ]
  },
  {
   "cell_type": "markdown",
   "metadata": {},
   "source": [
    "## フルモデルを作る"
   ]
  },
  {
   "cell_type": "markdown",
   "metadata": {},
   "source": [
    "作成した重回帰モデルの精度(決定係数)は単回帰モデルの決定係数(0.024 前回のnote参照)より大きくなりました。\n",
    "それでは、全ての説明変数を用いた場合の決定係数はどうなるでしょうか。"
   ]
  },
  {
   "cell_type": "markdown",
   "metadata": {},
   "source": [
    "データセットの説明変数を全て用いて作成したモデルを`フルモデル`と呼びます。今回は`フルモデル`における精度を検証しますが`area`は\n",
    "質的変数なので、まずは`area`以外の変数を用いてモデルを作成します。"
   ]
  },
  {
   "cell_type": "code",
   "execution_count": 197,
   "metadata": {},
   "outputs": [
    {
     "data": {
      "text/html": [
       "<div>\n",
       "<style scoped>\n",
       "    .dataframe tbody tr th:only-of-type {\n",
       "        vertical-align: middle;\n",
       "    }\n",
       "\n",
       "    .dataframe tbody tr th {\n",
       "        vertical-align: top;\n",
       "    }\n",
       "\n",
       "    .dataframe thead th {\n",
       "        text-align: right;\n",
       "    }\n",
       "</style>\n",
       "<table border=\"1\" class=\"dataframe\">\n",
       "  <thead>\n",
       "    <tr style=\"text-align: right;\">\n",
       "      <th></th>\n",
       "      <th>price</th>\n",
       "      <th>tsubo</th>\n",
       "      <th>tsubo_su</th>\n",
       "      <th>kenpei</th>\n",
       "      <th>building</th>\n",
       "      <th>age</th>\n",
       "      <th>birth</th>\n",
       "      <th>area</th>\n",
       "    </tr>\n",
       "  </thead>\n",
       "  <tbody>\n",
       "    <tr>\n",
       "      <th>0</th>\n",
       "      <td>47400000</td>\n",
       "      <td>563000</td>\n",
       "      <td>44.69</td>\n",
       "      <td>0.83</td>\n",
       "      <td>482000</td>\n",
       "      <td>30</td>\n",
       "      <td>1986</td>\n",
       "      <td>A</td>\n",
       "    </tr>\n",
       "    <tr>\n",
       "      <th>1</th>\n",
       "      <td>60300000</td>\n",
       "      <td>694000</td>\n",
       "      <td>41.74</td>\n",
       "      <td>0.76</td>\n",
       "      <td>518000</td>\n",
       "      <td>36</td>\n",
       "      <td>1980</td>\n",
       "      <td>A</td>\n",
       "    </tr>\n",
       "  </tbody>\n",
       "</table>\n",
       "</div>"
      ],
      "text/plain": [
       "      price   tsubo  tsubo_su  kenpei  building  age  birth area\n",
       "0  47400000  563000     44.69    0.83    482000   30   1986    A\n",
       "1  60300000  694000     41.74    0.76    518000   36   1980    A"
      ]
     },
     "execution_count": 197,
     "metadata": {},
     "output_type": "execute_result"
    }
   ],
   "source": [
    "df.head(2)"
   ]
  },
  {
   "cell_type": "code",
   "execution_count": 198,
   "metadata": {},
   "outputs": [
    {
     "data": {
      "text/plain": [
       "LinearRegression(copy_X=True, fit_intercept=True, n_jobs=None, normalize=False)"
      ]
     },
     "execution_count": 198,
     "metadata": {},
     "output_type": "execute_result"
    }
   ],
   "source": [
    "# Step1：データから目的変数と説明変数(複数列でも可)を選ぶ\n",
    "Y2 = df[['price']] # 目的変数を定義する\n",
    "X2 = df.drop(['area','price'],axis=1) # 説明変数を定義する\n",
    "\n",
    "# Step2：使いたい予測モデルを選んで、必要なモジュールをインポートする(今回は回帰モデルを選ぶ)\n",
    "# 今回はすでにインポート済みなのでインポートは不要です\n",
    "\n",
    "# Step3：モデルのクラスからモデルインスタンスを生成する\n",
    "reg2 = linear_model.LinearRegression()\n",
    "\n",
    "# Step4：生成したインスタンスに目的変数と説明変数を指定する(`fit`させる)\n",
    "reg2.fit(X2,Y2)"
   ]
  },
  {
   "cell_type": "code",
   "execution_count": 199,
   "metadata": {},
   "outputs": [
    {
     "name": "stdout",
     "output_type": "stream",
     "text": [
      "回帰係数は [[ 4.84069383e+01  6.36821574e+05  8.46878033e+06  1.66749103e+01\n",
      "   7.38658785e+04 -7.38658785e+04]] \n",
      "\n",
      "切片は [1.20864454e+08]\n"
     ]
    }
   ],
   "source": [
    "print('回帰係数は',reg2.coef_,'\\n') #アンダーバー(_)に注意、忘れないように！\n",
    "print('切片は',reg2.intercept_)"
   ]
  },
  {
   "cell_type": "code",
   "execution_count": 200,
   "metadata": {},
   "outputs": [
    {
     "data": {
      "text/plain": [
       "Text(0, 0.5, 'predicted data')"
      ]
     },
     "execution_count": 200,
     "metadata": {},
     "output_type": "execute_result"
    },
    {
     "data": {
      "image/png": "[encoded data removed]",
      "text/plain": [
       "<Figure size 432x288 with 1 Axes>"
      ]
     },
     "metadata": {
      "needs_background": "light"
     },
     "output_type": "display_data"
    }
   ],
   "source": [
    "#　実測値と予測値の散布図をプロットする\n",
    "plt.scatter(Y2,reg2.predict(X2))\n",
    "\n",
    "# 散布図をプロットする\n",
    "plt.xlabel('actual data')\n",
    "plt.ylabel('predicted data')"
   ]
  },
  {
   "cell_type": "code",
   "execution_count": 201,
   "metadata": {},
   "outputs": [
    {
     "data": {
      "text/plain": [
       "0.3661563793193878"
      ]
     },
     "execution_count": 201,
     "metadata": {},
     "output_type": "execute_result"
    }
   ],
   "source": [
    "# 決定係数を出力\n",
    "reg2.score(X2,Y2)"
   ]
  },
  {
   "cell_type": "code",
   "execution_count": 202,
   "metadata": {},
   "outputs": [
    {
     "name": "stdout",
     "output_type": "stream",
     "text": [
      "tsuboとtsubo_suを使った回帰モデルの決定係数：0.352\n",
      "area以外の説明変数を使った回帰モデルの決定係数：0.366\n"
     ]
    }
   ],
   "source": [
    "print('tsuboとtsubo_suを使った回帰モデルの決定係数：{0:.3f}'.format(reg.score(X,Y)))\n",
    "print('area以外の説明変数を使った回帰モデルの決定係数：{0:.3f}'.format(reg2.score(X2,Y2)))"
   ]
  },
  {
   "cell_type": "markdown",
   "metadata": {},
   "source": [
    "このように説明変数を増やすことによって`決定係数`の値は増えましたが、増分は微小でした。"
   ]
  },
  {
   "cell_type": "markdown",
   "metadata": {},
   "source": [
    "実は、回帰分析の決定係数はモデルで使う**説明変数の数を増やしていくと必ず増えていきます**。<br>\n",
    "つまり、説明変数AとBを用いたモデルよりも説明変数AとBとCを用いたモデルの決定係数の方が確実に大きくなります。"
   ]
  },
  {
   "cell_type": "markdown",
   "metadata": {},
   "source": [
    "## 自由度調整済み決定係数"
   ]
  },
  {
   "cell_type": "markdown",
   "metadata": {},
   "source": [
    "決定係数は説明変数を増やしていくと単調に増えていってしまうので、モデルに使う説明変数を増やすことに`ペナルティ`を設けた指標が作られました。\n",
    "それが`自由度調整済み決定係数`です。自由度調整済み決定係数の元では、モデルに貢献しない(目的変数の予測力のない)説明変数をモデルに加えても、予測精度の上昇分よりも、説明変数を加えたことによるペナルティの方が大きくなるため、決定係数の値は**下がる**ことになります。\n",
    "\n",
    "そこで重回帰モデルの**モデル比較**には普通、自由度調整済み決定係数が使われます。"
   ]
  },
  {
   "cell_type": "code",
   "execution_count": 203,
   "metadata": {},
   "outputs": [],
   "source": [
    "# 自由度調整済み決定係数を出力する関数を定義します\n",
    "# n：データ数\n",
    "# k：説明変数の数\n",
    "# r2：決定係数\n",
    "\n",
    "def adjr2(n,k,r2):\n",
    "    return 1 - ((n-1)/(n-k-1))*(1-r2)"
   ]
  },
  {
   "cell_type": "markdown",
   "metadata": {},
   "source": [
    "`tsubo`と`tsubo_su`を用いた回帰モデルの自由度調整済み決定係数を出力する"
   ]
  },
  {
   "cell_type": "code",
   "execution_count": 204,
   "metadata": {},
   "outputs": [
    {
     "data": {
      "text/plain": [
       "500"
      ]
     },
     "execution_count": 204,
     "metadata": {},
     "output_type": "execute_result"
    }
   ],
   "source": [
    "#データ数\n",
    "n = df.shape[0]\n",
    "n"
   ]
  },
  {
   "cell_type": "code",
   "execution_count": 205,
   "metadata": {},
   "outputs": [
    {
     "data": {
      "text/plain": [
       "2"
      ]
     },
     "execution_count": 205,
     "metadata": {},
     "output_type": "execute_result"
    }
   ],
   "source": [
    "# 列数\n",
    "k = len(X.columns)\n",
    "k"
   ]
  },
  {
   "cell_type": "code",
   "execution_count": 206,
   "metadata": {},
   "outputs": [
    {
     "data": {
      "text/plain": [
       "0.3520178148928559"
      ]
     },
     "execution_count": 206,
     "metadata": {},
     "output_type": "execute_result"
    }
   ],
   "source": [
    "# 決定係数\n",
    "r2 = reg.score(X,Y)\n",
    "r2"
   ]
  },
  {
   "cell_type": "code",
   "execution_count": 207,
   "metadata": {},
   "outputs": [
    {
     "data": {
      "text/plain": [
       "0.3494102407073141"
      ]
     },
     "execution_count": 207,
     "metadata": {},
     "output_type": "execute_result"
    }
   ],
   "source": [
    "# 自由度調整済み決定係数を出力する\n",
    "adjr2(n,k,r2)"
   ]
  },
  {
   "cell_type": "markdown",
   "metadata": {},
   "source": [
    "`area`以外の変数を用いた回帰モデルの自由度調整済み決定係数を出力する"
   ]
  },
  {
   "cell_type": "code",
   "execution_count": 208,
   "metadata": {},
   "outputs": [
    {
     "name": "stdout",
     "output_type": "stream",
     "text": [
      "n = 500, k = 6, r2 = 0.366\n"
     ]
    }
   ],
   "source": [
    "print('n = {0:.0f}, k = {1:.0f}, r2 = {2:.3f}'.format(df.shape[0],len(X2.columns),reg2.score(X2,Y2)))"
   ]
  },
  {
   "cell_type": "code",
   "execution_count": 209,
   "metadata": {},
   "outputs": [
    {
     "data": {
      "text/plain": [
       "0.3584422581752019"
      ]
     },
     "execution_count": 209,
     "metadata": {},
     "output_type": "execute_result"
    }
   ],
   "source": [
    "# 自由度調整済み決定係数を出力する\n",
    "n2 = df.shape[0]\n",
    "k2 = len(X2.columns)\n",
    "r22 = reg2.score(X2,Y2)\n",
    "\n",
    "adjr2(n2,k2,r22)"
   ]
  },
  {
   "cell_type": "markdown",
   "metadata": {},
   "source": [
    "## ダミー変数を使う(`get_dummies`)"
   ]
  },
  {
   "cell_type": "markdown",
   "metadata": {},
   "source": [
    "ここまでは質的変数である`area`は回帰モデルには使用しませんでした。しかし`層別解析`によれば`area=A`の`area`は`price`の平均が目立って高かったことが分かっています。そこで`area`を数値データに変換して、回帰モデルの説明変数として用いることにします。<br>\n",
    "ここで行う変換は`ダミー変換`と呼ばれます。"
   ]
  },
  {
   "cell_type": "code",
   "execution_count": 210,
   "metadata": {},
   "outputs": [
    {
     "data": {
      "text/html": [
       "<div>\n",
       "<style scoped>\n",
       "    .dataframe tbody tr th:only-of-type {\n",
       "        vertical-align: middle;\n",
       "    }\n",
       "\n",
       "    .dataframe tbody tr th {\n",
       "        vertical-align: top;\n",
       "    }\n",
       "\n",
       "    .dataframe thead th {\n",
       "        text-align: right;\n",
       "    }\n",
       "</style>\n",
       "<table border=\"1\" class=\"dataframe\">\n",
       "  <thead>\n",
       "    <tr style=\"text-align: right;\">\n",
       "      <th></th>\n",
       "      <th>price</th>\n",
       "    </tr>\n",
       "    <tr>\n",
       "      <th>area</th>\n",
       "      <th></th>\n",
       "    </tr>\n",
       "  </thead>\n",
       "  <tbody>\n",
       "    <tr>\n",
       "      <th>A</th>\n",
       "      <td>54775627.24</td>\n",
       "    </tr>\n",
       "    <tr>\n",
       "      <th>B</th>\n",
       "      <td>43452380.95</td>\n",
       "    </tr>\n",
       "    <tr>\n",
       "      <th>C</th>\n",
       "      <td>43229166.67</td>\n",
       "    </tr>\n",
       "    <tr>\n",
       "      <th>D</th>\n",
       "      <td>43090243.90</td>\n",
       "    </tr>\n",
       "  </tbody>\n",
       "</table>\n",
       "</div>"
      ],
      "text/plain": [
       "           price\n",
       "area            \n",
       "A    54775627.24\n",
       "B    43452380.95\n",
       "C    43229166.67\n",
       "D    43090243.90"
      ]
     },
     "execution_count": 210,
     "metadata": {},
     "output_type": "execute_result"
    }
   ],
   "source": [
    "df.groupby(['area']).mean()[['price']]"
   ]
  },
  {
   "cell_type": "code",
   "execution_count": 211,
   "metadata": {},
   "outputs": [
    {
     "data": {
      "text/html": [
       "<div>\n",
       "<style scoped>\n",
       "    .dataframe tbody tr th:only-of-type {\n",
       "        vertical-align: middle;\n",
       "    }\n",
       "\n",
       "    .dataframe tbody tr th {\n",
       "        vertical-align: top;\n",
       "    }\n",
       "\n",
       "    .dataframe thead th {\n",
       "        text-align: right;\n",
       "    }\n",
       "</style>\n",
       "<table border=\"1\" class=\"dataframe\">\n",
       "  <thead>\n",
       "    <tr style=\"text-align: right;\">\n",
       "      <th></th>\n",
       "      <th>price</th>\n",
       "      <th>tsubo</th>\n",
       "      <th>tsubo_su</th>\n",
       "      <th>kenpei</th>\n",
       "      <th>building</th>\n",
       "      <th>age</th>\n",
       "      <th>birth</th>\n",
       "      <th>area</th>\n",
       "    </tr>\n",
       "  </thead>\n",
       "  <tbody>\n",
       "    <tr>\n",
       "      <th>0</th>\n",
       "      <td>47400000</td>\n",
       "      <td>563000</td>\n",
       "      <td>44.69</td>\n",
       "      <td>0.83</td>\n",
       "      <td>482000</td>\n",
       "      <td>30</td>\n",
       "      <td>1986</td>\n",
       "      <td>A</td>\n",
       "    </tr>\n",
       "    <tr>\n",
       "      <th>1</th>\n",
       "      <td>60300000</td>\n",
       "      <td>694000</td>\n",
       "      <td>41.74</td>\n",
       "      <td>0.76</td>\n",
       "      <td>518000</td>\n",
       "      <td>36</td>\n",
       "      <td>1980</td>\n",
       "      <td>A</td>\n",
       "    </tr>\n",
       "    <tr>\n",
       "      <th>2</th>\n",
       "      <td>53700000</td>\n",
       "      <td>744000</td>\n",
       "      <td>42.89</td>\n",
       "      <td>0.95</td>\n",
       "      <td>384000</td>\n",
       "      <td>38</td>\n",
       "      <td>1978</td>\n",
       "      <td>A</td>\n",
       "    </tr>\n",
       "  </tbody>\n",
       "</table>\n",
       "</div>"
      ],
      "text/plain": [
       "      price   tsubo  tsubo_su  kenpei  building  age  birth area\n",
       "0  47400000  563000     44.69    0.83    482000   30   1986    A\n",
       "1  60300000  694000     41.74    0.76    518000   36   1980    A\n",
       "2  53700000  744000     42.89    0.95    384000   38   1978    A"
      ]
     },
     "execution_count": 211,
     "metadata": {},
     "output_type": "execute_result"
    }
   ],
   "source": [
    "df.head(3)"
   ]
  },
  {
   "cell_type": "markdown",
   "metadata": {},
   "source": [
    "まずは元のデータから`price`だけを除外したデータを定義します。"
   ]
  },
  {
   "cell_type": "code",
   "execution_count": 224,
   "metadata": {},
   "outputs": [],
   "source": [
    "X3 = df.drop(['price'], axis=1)"
   ]
  },
  {
   "cell_type": "markdown",
   "metadata": {},
   "source": [
    "pandasの`get_dummies`を使うと、質的変数を`ダミー変数`に変換できます。この変換では\n",
    "\n",
    "- 質的変数の取りうる値ごとに列が作成され\n",
    "- データごとに該当する値の列で1の値が入力されている\n",
    "\n",
    "という状態を作ることができます。"
   ]
  },
  {
   "cell_type": "markdown",
   "metadata": {},
   "source": [
    "例えば今回のデータでは元々あった`area`という列がなくなり、代わりに`area_A`,`area_B`,`area_C`,`area_D`という列ができます。<br>\n",
    "1行目のデータ(インデックス0のデータ)の`area`は`A`だったのですが、代わりには`area_A`という列に`1`という値が入り、その他の列には`0`が入ります。"
   ]
  },
  {
   "cell_type": "code",
   "execution_count": 225,
   "metadata": {
    "scrolled": true
   },
   "outputs": [
    {
     "data": {
      "text/html": [
       "<div>\n",
       "<style scoped>\n",
       "    .dataframe tbody tr th:only-of-type {\n",
       "        vertical-align: middle;\n",
       "    }\n",
       "\n",
       "    .dataframe tbody tr th {\n",
       "        vertical-align: top;\n",
       "    }\n",
       "\n",
       "    .dataframe thead th {\n",
       "        text-align: right;\n",
       "    }\n",
       "</style>\n",
       "<table border=\"1\" class=\"dataframe\">\n",
       "  <thead>\n",
       "    <tr style=\"text-align: right;\">\n",
       "      <th></th>\n",
       "      <th>price</th>\n",
       "      <th>tsubo</th>\n",
       "      <th>tsubo_su</th>\n",
       "      <th>kenpei</th>\n",
       "      <th>building</th>\n",
       "      <th>age</th>\n",
       "      <th>birth</th>\n",
       "      <th>area_A</th>\n",
       "      <th>area_B</th>\n",
       "      <th>area_C</th>\n",
       "      <th>area_D</th>\n",
       "    </tr>\n",
       "  </thead>\n",
       "  <tbody>\n",
       "    <tr>\n",
       "      <th>0</th>\n",
       "      <td>47400000</td>\n",
       "      <td>563000</td>\n",
       "      <td>44.69</td>\n",
       "      <td>0.83</td>\n",
       "      <td>482000</td>\n",
       "      <td>30</td>\n",
       "      <td>1986</td>\n",
       "      <td>1</td>\n",
       "      <td>0</td>\n",
       "      <td>0</td>\n",
       "      <td>0</td>\n",
       "    </tr>\n",
       "    <tr>\n",
       "      <th>1</th>\n",
       "      <td>60300000</td>\n",
       "      <td>694000</td>\n",
       "      <td>41.74</td>\n",
       "      <td>0.76</td>\n",
       "      <td>518000</td>\n",
       "      <td>36</td>\n",
       "      <td>1980</td>\n",
       "      <td>1</td>\n",
       "      <td>0</td>\n",
       "      <td>0</td>\n",
       "      <td>0</td>\n",
       "    </tr>\n",
       "  </tbody>\n",
       "</table>\n",
       "</div>"
      ],
      "text/plain": [
       "      price   tsubo  tsubo_su  kenpei  building  age  birth  area_A  area_B  \\\n",
       "0  47400000  563000     44.69    0.83    482000   30   1986       1       0   \n",
       "1  60300000  694000     41.74    0.76    518000   36   1980       1       0   \n",
       "\n",
       "   area_C  area_D  \n",
       "0       0       0  \n",
       "1       0       0  "
      ]
     },
     "execution_count": 225,
     "metadata": {},
     "output_type": "execute_result"
    }
   ],
   "source": [
    "X3 = pd.get_dummies(df)\n",
    "X3.head(2)"
   ]
  },
  {
   "cell_type": "markdown",
   "metadata": {},
   "source": [
    "**ダミー変数列を1つ削除する**"
   ]
  },
  {
   "cell_type": "markdown",
   "metadata": {},
   "source": [
    "ダミー変数列を作成したら、できあがった列の中から1つの列を削除します。これは、できあがった列のうち1つの列は完全に情報量として無駄だからです。\n",
    "たとえば`area_A`,`area_B`,`area_C`の値が確定すれば、`area_D`の値も完全に確定します。\n",
    "`area_A = 0`,`area_B = 0`,`area_C = 0`ならば `area_D = 1`となりますし、`area_A`,`area_B`,`area_C`のいずれかの変数の値が1になるならば`area_D = 0`となります。"
   ]
  },
  {
   "cell_type": "markdown",
   "metadata": {},
   "source": [
    "今回は`area_D`を削除することにします(他の変数でも構いません。)"
   ]
  },
  {
   "cell_type": "code",
   "execution_count": 226,
   "metadata": {},
   "outputs": [
    {
     "data": {
      "text/html": [
       "<div>\n",
       "<style scoped>\n",
       "    .dataframe tbody tr th:only-of-type {\n",
       "        vertical-align: middle;\n",
       "    }\n",
       "\n",
       "    .dataframe tbody tr th {\n",
       "        vertical-align: top;\n",
       "    }\n",
       "\n",
       "    .dataframe thead th {\n",
       "        text-align: right;\n",
       "    }\n",
       "</style>\n",
       "<table border=\"1\" class=\"dataframe\">\n",
       "  <thead>\n",
       "    <tr style=\"text-align: right;\">\n",
       "      <th></th>\n",
       "      <th>tsubo</th>\n",
       "      <th>tsubo_su</th>\n",
       "      <th>kenpei</th>\n",
       "      <th>building</th>\n",
       "      <th>age</th>\n",
       "      <th>birth</th>\n",
       "      <th>area_A</th>\n",
       "      <th>area_B</th>\n",
       "      <th>area_C</th>\n",
       "    </tr>\n",
       "  </thead>\n",
       "  <tbody>\n",
       "    <tr>\n",
       "      <th>0</th>\n",
       "      <td>563000</td>\n",
       "      <td>44.69</td>\n",
       "      <td>0.83</td>\n",
       "      <td>482000</td>\n",
       "      <td>30</td>\n",
       "      <td>1986</td>\n",
       "      <td>1</td>\n",
       "      <td>0</td>\n",
       "      <td>0</td>\n",
       "    </tr>\n",
       "    <tr>\n",
       "      <th>1</th>\n",
       "      <td>694000</td>\n",
       "      <td>41.74</td>\n",
       "      <td>0.76</td>\n",
       "      <td>518000</td>\n",
       "      <td>36</td>\n",
       "      <td>1980</td>\n",
       "      <td>1</td>\n",
       "      <td>0</td>\n",
       "      <td>0</td>\n",
       "    </tr>\n",
       "  </tbody>\n",
       "</table>\n",
       "</div>"
      ],
      "text/plain": [
       "    tsubo  tsubo_su  kenpei  building  age  birth  area_A  area_B  area_C\n",
       "0  563000     44.69    0.83    482000   30   1986       1       0       0\n",
       "1  694000     41.74    0.76    518000   36   1980       1       0       0"
      ]
     },
     "execution_count": 226,
     "metadata": {},
     "output_type": "execute_result"
    }
   ],
   "source": [
    "X3 = X3.drop(['price','area_D'], axis=1)\n",
    "X3.head(2)"
   ]
  },
  {
   "cell_type": "markdown",
   "metadata": {},
   "source": [
    "それではモデリングを開始します。"
   ]
  },
  {
   "cell_type": "code",
   "execution_count": 227,
   "metadata": {},
   "outputs": [
    {
     "data": {
      "text/plain": [
       "LinearRegression(copy_X=True, fit_intercept=True, n_jobs=None, normalize=False)"
      ]
     },
     "execution_count": 227,
     "metadata": {},
     "output_type": "execute_result"
    }
   ],
   "source": [
    "# Step1：データから目的変数と説明変数(複数列でも可)を選ぶ\n",
    "Y3 = df[['price']] # 目的変数を定義する\n",
    "# X3 # 説明変数を定義する\n",
    "\n",
    "# Step2：使いたい予測モデルを選んで、必要なモジュールをインポートする(今回は回帰モデルを選ぶ)\n",
    "# 今回はすでにインポート済みなのでインポートは不要です\n",
    "\n",
    "# Step3：モデルのクラスからモデルインスタンスを生成する\n",
    "reg3 = linear_model.LinearRegression()\n",
    "\n",
    "# Step4：生成したインスタンスに目的変数と説明変数を指定する(`fit`させる)\n",
    "reg3.fit(X3,Y3)"
   ]
  },
  {
   "cell_type": "code",
   "execution_count": 228,
   "metadata": {},
   "outputs": [
    {
     "name": "stdout",
     "output_type": "stream",
     "text": [
      "回帰係数は [[ 3.22068032e+01  3.70931481e+05  6.78544632e+06  1.01078313e+01\n",
      "   8.27616482e+04 -8.27616482e+04  8.93602422e+06  2.86765217e+05\n",
      "   4.33661459e+04]] \n",
      "\n",
      "切片は [1.58670879e+08]\n"
     ]
    }
   ],
   "source": [
    "print('回帰係数は',reg3.coef_,'\\n') #アンダーバー(_)に注意、忘れないように！\n",
    "print('切片は',reg3.intercept_)"
   ]
  },
  {
   "cell_type": "code",
   "execution_count": 229,
   "metadata": {
    "scrolled": true
   },
   "outputs": [
    {
     "data": {
      "text/plain": [
       "Text(0, 0.5, 'predicted data')"
      ]
     },
     "execution_count": 229,
     "metadata": {},
     "output_type": "execute_result"
    },
    {
     "data": {
      "image/png": "[encoded data removed]",
      "text/plain": [
       "<Figure size 432x288 with 1 Axes>"
      ]
     },
     "metadata": {
      "needs_background": "light"
     },
     "output_type": "display_data"
    }
   ],
   "source": [
    "#　実測値と予測値の散布図をプロットする\n",
    "plt.scatter(Y3,reg3.predict(X3))\n",
    "\n",
    "# 散布図をプロットする\n",
    "plt.xlabel('actual data')\n",
    "plt.ylabel('predicted data')"
   ]
  },
  {
   "cell_type": "code",
   "execution_count": 230,
   "metadata": {},
   "outputs": [
    {
     "data": {
      "text/plain": [
       "0.5874873770510494"
      ]
     },
     "execution_count": 230,
     "metadata": {},
     "output_type": "execute_result"
    }
   ],
   "source": [
    "# 決定係数を出力\n",
    "reg3.score(X3,Y3)"
   ]
  },
  {
   "cell_type": "code",
   "execution_count": 231,
   "metadata": {},
   "outputs": [
    {
     "name": "stdout",
     "output_type": "stream",
     "text": [
      "n = 500, k = 9, r2 = 0.587\n"
     ]
    }
   ],
   "source": [
    "print('n = {0:.0f}, k = {1:.0f}, r2 = {2:.3f}'.format(df.shape[0],len(X3.columns),reg3.score(X3,Y3)))"
   ]
  },
  {
   "cell_type": "code",
   "execution_count": 232,
   "metadata": {},
   "outputs": [
    {
     "data": {
      "text/plain": [
       "0.5849923410251484"
      ]
     },
     "execution_count": 232,
     "metadata": {},
     "output_type": "execute_result"
    }
   ],
   "source": [
    "# 自由度調整済み決定係数を出力する\n",
    "n3 = df.shape[0]\n",
    "k3 = len(X3.columns)\n",
    "r23 = reg3.score(X3,Y3)\n",
    "\n",
    "adjr2(n3,3,r23)"
   ]
  },
  {
   "cell_type": "markdown",
   "metadata": {},
   "source": [
    "# 演習問題"
   ]
  },
  {
   "cell_type": "markdown",
   "metadata": {},
   "source": [
    "提供されているファイル`house.csv`のデータを用いて`price`を予測する重回帰モデルを作成してください。"
   ]
  },
  {
   "cell_type": "markdown",
   "metadata": {},
   "source": [
    "- Id - 物件のID\n",
    "- price - 価格\n",
    "- bedrooms - べットルーム数\n",
    "- bathrooms - お風呂数\n",
    "- sqft_living - 住宅部分面積\n",
    "- sqft_lot - 敷地面積\n",
    "- floors - フロア数\n",
    "- waterfront - 海岸の土地か否か\n",
    "- view - 眺めの良さ\n",
    "- condition - 状態\n",
    "- grade - 住宅部門に与えられた格付け \n",
    "- y_built - 建築された年\n",
    "- yr_renovated - 家が改装された年\n"
   ]
  },
  {
   "cell_type": "markdown",
   "metadata": {},
   "source": [
    "ただし以下の要件を守ってください。\n",
    "\n",
    "- 説明変数は使われているデータから適当に選択して下さい\n",
    "- 目的変数はpriceとしてください\n",
    "- 回帰係数と切片の値を出力してください\n",
    "- モデルの**自由度調整済み決定係数**がなるべく高いモデルを作成してください"
   ]
  },
  {
   "cell_type": "code",
   "execution_count": 237,
   "metadata": {},
   "outputs": [
    {
     "data": {
      "text/html": [
       "<div>\n",
       "<style scoped>\n",
       "    .dataframe tbody tr th:only-of-type {\n",
       "        vertical-align: middle;\n",
       "    }\n",
       "\n",
       "    .dataframe tbody tr th {\n",
       "        vertical-align: top;\n",
       "    }\n",
       "\n",
       "    .dataframe thead th {\n",
       "        text-align: right;\n",
       "    }\n",
       "</style>\n",
       "<table border=\"1\" class=\"dataframe\">\n",
       "  <thead>\n",
       "    <tr style=\"text-align: right;\">\n",
       "      <th></th>\n",
       "      <th>date</th>\n",
       "      <th>price</th>\n",
       "      <th>bedrooms</th>\n",
       "      <th>bathrooms</th>\n",
       "      <th>sqft_living</th>\n",
       "      <th>sqft_lot</th>\n",
       "      <th>floors</th>\n",
       "      <th>condition</th>\n",
       "      <th>grade</th>\n",
       "      <th>yr_built</th>\n",
       "      <th>yr_renovated</th>\n",
       "    </tr>\n",
       "  </thead>\n",
       "  <tbody>\n",
       "    <tr>\n",
       "      <th>0</th>\n",
       "      <td>20141013T000000</td>\n",
       "      <td>221900.00</td>\n",
       "      <td>3</td>\n",
       "      <td>1.00</td>\n",
       "      <td>1180</td>\n",
       "      <td>5650</td>\n",
       "      <td>1.00</td>\n",
       "      <td>3</td>\n",
       "      <td>7</td>\n",
       "      <td>1955</td>\n",
       "      <td>0</td>\n",
       "    </tr>\n",
       "    <tr>\n",
       "      <th>1</th>\n",
       "      <td>20141209T000000</td>\n",
       "      <td>538000.00</td>\n",
       "      <td>3</td>\n",
       "      <td>2.25</td>\n",
       "      <td>2570</td>\n",
       "      <td>7242</td>\n",
       "      <td>2.00</td>\n",
       "      <td>3</td>\n",
       "      <td>7</td>\n",
       "      <td>1951</td>\n",
       "      <td>1991</td>\n",
       "    </tr>\n",
       "    <tr>\n",
       "      <th>2</th>\n",
       "      <td>20150225T000000</td>\n",
       "      <td>180000.00</td>\n",
       "      <td>2</td>\n",
       "      <td>1.00</td>\n",
       "      <td>770</td>\n",
       "      <td>10000</td>\n",
       "      <td>1.00</td>\n",
       "      <td>3</td>\n",
       "      <td>6</td>\n",
       "      <td>1933</td>\n",
       "      <td>0</td>\n",
       "    </tr>\n",
       "  </tbody>\n",
       "</table>\n",
       "</div>"
      ],
      "text/plain": [
       "              date     price  bedrooms  bathrooms  sqft_living  sqft_lot  \\\n",
       "0  20141013T000000 221900.00         3       1.00         1180      5650   \n",
       "1  20141209T000000 538000.00         3       2.25         2570      7242   \n",
       "2  20150225T000000 180000.00         2       1.00          770     10000   \n",
       "\n",
       "   floors  condition  grade  yr_built  yr_renovated  \n",
       "0    1.00          3      7      1955             0  \n",
       "1    2.00          3      7      1951          1991  \n",
       "2    1.00          3      6      1933             0  "
      ]
     },
     "execution_count": 237,
     "metadata": {},
     "output_type": "execute_result"
    }
   ],
   "source": [
    "df2 = pd.read_csv('house.csv')\n",
    "df2.head(3)"
   ]
  },
  {
   "cell_type": "code",
   "execution_count": 238,
   "metadata": {},
   "outputs": [],
   "source": [
    "# ここに回答を記載してください。"
   ]
  },
  {
   "cell_type": "markdown",
   "metadata": {},
   "source": [
    "**Fin.**"
   ]
  }
 ],
 "metadata": {
  "kernelspec": {
   "display_name": "Python 3",
   "language": "python",
   "name": "python3"
  },
  "language_info": {
   "codemirror_mode": {
    "name": "ipython",
    "version": 3
   },
   "file_extension": ".py",
   "mimetype": "text/x-python",
   "name": "python",
   "nbconvert_exporter": "python",
   "pygments_lexer": "ipython3",
   "version": "3.7.4"
  },
  "toc": {
   "base_numbering": 1,
   "nav_menu": {},
   "number_sections": true,
   "sideBar": true,
   "skip_h1_title": false,
   "title_cell": "Table of Contents",
   "title_sidebar": "Contents",
   "toc_cell": false,
   "toc_position": {
    "height": "460.86956787109375px",
    "left": "948.0435180664062px",
    "top": "109.334228515625px",
    "width": "165px"
   },
   "toc_section_display": true,
   "toc_window_display": true
  }
 },
 "nbformat": 4,
 "nbformat_minor": 4
}
